{
  "nbformat": 4,
  "nbformat_minor": 0,
  "metadata": {
    "colab": {
      "provenance": []
    },
    "kernelspec": {
      "name": "python3",
      "display_name": "Python 3"
    },
    "language_info": {
      "name": "python"
    }
  },
  "cells": [
    {
      "cell_type": "code",
      "source": [
        "from google.colab import drive\n",
        "drive.mount('/content/drive')\n",
        "\n",
        "%cd drive/MyDrive/Colab Notebooks/ALD\n",
        "%ls"
      ],
      "metadata": {
        "id": "okwMeQ6x-Nmh",
        "colab": {
          "base_uri": "https://localhost:8080/"
        },
        "outputId": "54c10c55-f474-47f3-902d-f4705946b832"
      },
      "execution_count": null,
      "outputs": [
        {
          "output_type": "stream",
          "name": "stdout",
          "text": [
            "Drive already mounted at /content/drive; to attempt to forcibly remount, call drive.mount(\"/content/drive\", force_remount=True).\n",
            "[Errno 2] No such file or directory: 'drive/MyDrive/Colab Notebooks/ALD'\n",
            "/content/drive/MyDrive/Colab Notebooks/ALD\n",
            "\u001b[0m\u001b[01;34mdatasets\u001b[0m/\n"
          ]
        }
      ]
    },
    {
      "cell_type": "code",
      "execution_count": null,
      "metadata": {
        "id": "aaC3RNGb99bu"
      },
      "outputs": [],
      "source": [
        "import os\n",
        "import numpy as np\n",
        "import pandas as pd\n",
        "from tqdm import tqdm\n",
        "import matplotlib.pyplot as plt\n",
        "# import seaborn as sns\n",
        "from sklearn.model_selection import train_test_split\n",
        "from sklearn.preprocessing import MinMaxScaler\n",
        "from sklearn.metrics import accuracy_score"
      ]
    },
    {
      "cell_type": "code",
      "source": [
        "DATASET_PATH = 'datasets/Accelerometer Data + TAC/'\n",
        "datasets = {filename.split('.')[0]: pd.read_csv(f'{DATASET_PATH}feature_data/{filename}') for filename in os.listdir(f'{DATASET_PATH}feature_data/')}"
      ],
      "metadata": {
        "id": "Qo_Lu9kaEdf8"
      },
      "execution_count": null,
      "outputs": []
    },
    {
      "cell_type": "code",
      "source": [
        "total_len = 0\n",
        "toxicated = 0\n",
        "intoxicated = 0\n",
        "for dataset in datasets.values():\n",
        "    total_len += len(dataset)\n",
        "    intoxicated += sum(dataset['ground_truth'])\n",
        "toxicated = total_len - intoxicated\n",
        "\n",
        "print(f'Total number of samples: {total_len}')\n",
        "print(f'toxicated: {toxicated}')\n",
        "print(f'intoxicated: {intoxicated}')"
      ],
      "metadata": {
        "id": "02VHPbD4HblT",
        "colab": {
          "base_uri": "https://localhost:8080/"
        },
        "outputId": "da0f81fb-f15b-47ab-c428-d98e09346d89"
      },
      "execution_count": null,
      "outputs": [
        {
          "output_type": "stream",
          "name": "stdout",
          "text": [
            "Total number of samples: 35860\n",
            "toxicated: 16672\n",
            "intoxicated: 19188\n"
          ]
        }
      ]
    },
    {
      "cell_type": "code",
      "source": [
        "datasets[list(datasets.keys())[0]].head()"
      ],
      "metadata": {
        "id": "UTWO-c9iEkg9",
        "colab": {
          "base_uri": "https://localhost:8080/",
          "height": 299
        },
        "outputId": "3d8ac508-5fd5-435e-8f16-f4d51b06b0e6"
      },
      "execution_count": null,
      "outputs": [
        {
          "output_type": "execute_result",
          "data": {
            "text/plain": [
              "   x_mean_mean  x_mean_variance  x_mean_min  x_mean_max  \\\n",
              "0     0.013721     7.599049e-04   -0.017745    0.070992   \n",
              "1     0.002651     2.973126e-05   -0.002529    0.014274   \n",
              "2     0.000887     9.807391e-06   -0.002924    0.007199   \n",
              "3    -0.000514     2.979465e-06   -0.004895    0.000923   \n",
              "4     0.000993     2.941775e-07   -0.000308    0.002049   \n",
              "\n",
              "   x_mean_lower_third_mean  x_mean_upper_third_mean  y_mean_mean  \\\n",
              "0                -0.009408                 0.023633     0.000898   \n",
              "1                -0.002195                 0.004728     0.005218   \n",
              "2                -0.002314                 0.002259     0.003658   \n",
              "3                -0.002582                 0.000373     0.002559   \n",
              "4                 0.000487                 0.001210     0.001876   \n",
              "\n",
              "   y_mean_variance  y_mean_min  y_mean_max  ...  y_max_freq_max_diff  \\\n",
              "0         0.000027   -0.010774    0.009670  ...                 17.0   \n",
              "1         0.000027   -0.001043    0.015194  ...                  2.5   \n",
              "2         0.000008   -0.000531    0.009664  ...                  0.0   \n",
              "3         0.000019   -0.002534    0.014478  ...                 -0.5   \n",
              "4         0.000007   -0.001435    0.009453  ...                  0.5   \n",
              "\n",
              "   y_max_freq_lower_third_mean_diff  y_max_freq_upper_third_mean_diff  \\\n",
              "0                          3.166667                          9.857143   \n",
              "1                          0.333333                          3.071429   \n",
              "2                         -0.666667                          1.684211   \n",
              "3                         -2.491453                         -5.147983   \n",
              "4                          1.491453                          3.892343   \n",
              "\n",
              "   z_max_freq_mean_diff  z_max_freq_variance_diff  z_max_freq_min_diff  \\\n",
              "0             10.750000                 45.562500                  0.0   \n",
              "1              0.200000                -14.590000                  3.0   \n",
              "2             -1.478947                 14.995568                 -3.0   \n",
              "3             -1.744755                  3.987999                  0.0   \n",
              "4             -1.526298                 -4.346067                  0.0   \n",
              "\n",
              "   z_max_freq_max_diff  z_max_freq_lower_third_mean_diff  \\\n",
              "0                 19.5                          2.833333   \n",
              "1                  0.0                          1.500000   \n",
              "2                 -1.5                         -3.666667   \n",
              "3                  1.5                          0.683761   \n",
              "4                 -1.5                         -1.183761   \n",
              "\n",
              "   z_max_freq_upper_third_mean_diff  ground_truth  \n",
              "0                         14.142857             1  \n",
              "1                         -0.357143             1  \n",
              "2                         -0.541353             1  \n",
              "3                         -2.785547             1  \n",
              "4                         -1.673099             1  \n",
              "\n",
              "[5 rows x 757 columns]"
            ],
            "text/html": [
              "\n",
              "  <div id=\"df-cc4f7b7b-f521-43d7-9fda-03e805e909d4\">\n",
              "    <div class=\"colab-df-container\">\n",
              "      <div>\n",
              "<style scoped>\n",
              "    .dataframe tbody tr th:only-of-type {\n",
              "        vertical-align: middle;\n",
              "    }\n",
              "\n",
              "    .dataframe tbody tr th {\n",
              "        vertical-align: top;\n",
              "    }\n",
              "\n",
              "    .dataframe thead th {\n",
              "        text-align: right;\n",
              "    }\n",
              "</style>\n",
              "<table border=\"1\" class=\"dataframe\">\n",
              "  <thead>\n",
              "    <tr style=\"text-align: right;\">\n",
              "      <th></th>\n",
              "      <th>x_mean_mean</th>\n",
              "      <th>x_mean_variance</th>\n",
              "      <th>x_mean_min</th>\n",
              "      <th>x_mean_max</th>\n",
              "      <th>x_mean_lower_third_mean</th>\n",
              "      <th>x_mean_upper_third_mean</th>\n",
              "      <th>y_mean_mean</th>\n",
              "      <th>y_mean_variance</th>\n",
              "      <th>y_mean_min</th>\n",
              "      <th>y_mean_max</th>\n",
              "      <th>...</th>\n",
              "      <th>y_max_freq_max_diff</th>\n",
              "      <th>y_max_freq_lower_third_mean_diff</th>\n",
              "      <th>y_max_freq_upper_third_mean_diff</th>\n",
              "      <th>z_max_freq_mean_diff</th>\n",
              "      <th>z_max_freq_variance_diff</th>\n",
              "      <th>z_max_freq_min_diff</th>\n",
              "      <th>z_max_freq_max_diff</th>\n",
              "      <th>z_max_freq_lower_third_mean_diff</th>\n",
              "      <th>z_max_freq_upper_third_mean_diff</th>\n",
              "      <th>ground_truth</th>\n",
              "    </tr>\n",
              "  </thead>\n",
              "  <tbody>\n",
              "    <tr>\n",
              "      <th>0</th>\n",
              "      <td>0.013721</td>\n",
              "      <td>7.599049e-04</td>\n",
              "      <td>-0.017745</td>\n",
              "      <td>0.070992</td>\n",
              "      <td>-0.009408</td>\n",
              "      <td>0.023633</td>\n",
              "      <td>0.000898</td>\n",
              "      <td>0.000027</td>\n",
              "      <td>-0.010774</td>\n",
              "      <td>0.009670</td>\n",
              "      <td>...</td>\n",
              "      <td>17.0</td>\n",
              "      <td>3.166667</td>\n",
              "      <td>9.857143</td>\n",
              "      <td>10.750000</td>\n",
              "      <td>45.562500</td>\n",
              "      <td>0.0</td>\n",
              "      <td>19.5</td>\n",
              "      <td>2.833333</td>\n",
              "      <td>14.142857</td>\n",
              "      <td>1</td>\n",
              "    </tr>\n",
              "    <tr>\n",
              "      <th>1</th>\n",
              "      <td>0.002651</td>\n",
              "      <td>2.973126e-05</td>\n",
              "      <td>-0.002529</td>\n",
              "      <td>0.014274</td>\n",
              "      <td>-0.002195</td>\n",
              "      <td>0.004728</td>\n",
              "      <td>0.005218</td>\n",
              "      <td>0.000027</td>\n",
              "      <td>-0.001043</td>\n",
              "      <td>0.015194</td>\n",
              "      <td>...</td>\n",
              "      <td>2.5</td>\n",
              "      <td>0.333333</td>\n",
              "      <td>3.071429</td>\n",
              "      <td>0.200000</td>\n",
              "      <td>-14.590000</td>\n",
              "      <td>3.0</td>\n",
              "      <td>0.0</td>\n",
              "      <td>1.500000</td>\n",
              "      <td>-0.357143</td>\n",
              "      <td>1</td>\n",
              "    </tr>\n",
              "    <tr>\n",
              "      <th>2</th>\n",
              "      <td>0.000887</td>\n",
              "      <td>9.807391e-06</td>\n",
              "      <td>-0.002924</td>\n",
              "      <td>0.007199</td>\n",
              "      <td>-0.002314</td>\n",
              "      <td>0.002259</td>\n",
              "      <td>0.003658</td>\n",
              "      <td>0.000008</td>\n",
              "      <td>-0.000531</td>\n",
              "      <td>0.009664</td>\n",
              "      <td>...</td>\n",
              "      <td>0.0</td>\n",
              "      <td>-0.666667</td>\n",
              "      <td>1.684211</td>\n",
              "      <td>-1.478947</td>\n",
              "      <td>14.995568</td>\n",
              "      <td>-3.0</td>\n",
              "      <td>-1.5</td>\n",
              "      <td>-3.666667</td>\n",
              "      <td>-0.541353</td>\n",
              "      <td>1</td>\n",
              "    </tr>\n",
              "    <tr>\n",
              "      <th>3</th>\n",
              "      <td>-0.000514</td>\n",
              "      <td>2.979465e-06</td>\n",
              "      <td>-0.004895</td>\n",
              "      <td>0.000923</td>\n",
              "      <td>-0.002582</td>\n",
              "      <td>0.000373</td>\n",
              "      <td>0.002559</td>\n",
              "      <td>0.000019</td>\n",
              "      <td>-0.002534</td>\n",
              "      <td>0.014478</td>\n",
              "      <td>...</td>\n",
              "      <td>-0.5</td>\n",
              "      <td>-2.491453</td>\n",
              "      <td>-5.147983</td>\n",
              "      <td>-1.744755</td>\n",
              "      <td>3.987999</td>\n",
              "      <td>0.0</td>\n",
              "      <td>1.5</td>\n",
              "      <td>0.683761</td>\n",
              "      <td>-2.785547</td>\n",
              "      <td>1</td>\n",
              "    </tr>\n",
              "    <tr>\n",
              "      <th>4</th>\n",
              "      <td>0.000993</td>\n",
              "      <td>2.941775e-07</td>\n",
              "      <td>-0.000308</td>\n",
              "      <td>0.002049</td>\n",
              "      <td>0.000487</td>\n",
              "      <td>0.001210</td>\n",
              "      <td>0.001876</td>\n",
              "      <td>0.000007</td>\n",
              "      <td>-0.001435</td>\n",
              "      <td>0.009453</td>\n",
              "      <td>...</td>\n",
              "      <td>0.5</td>\n",
              "      <td>1.491453</td>\n",
              "      <td>3.892343</td>\n",
              "      <td>-1.526298</td>\n",
              "      <td>-4.346067</td>\n",
              "      <td>0.0</td>\n",
              "      <td>-1.5</td>\n",
              "      <td>-1.183761</td>\n",
              "      <td>-1.673099</td>\n",
              "      <td>1</td>\n",
              "    </tr>\n",
              "  </tbody>\n",
              "</table>\n",
              "<p>5 rows × 757 columns</p>\n",
              "</div>\n",
              "      <button class=\"colab-df-convert\" onclick=\"convertToInteractive('df-cc4f7b7b-f521-43d7-9fda-03e805e909d4')\"\n",
              "              title=\"Convert this dataframe to an interactive table.\"\n",
              "              style=\"display:none;\">\n",
              "        \n",
              "  <svg xmlns=\"http://www.w3.org/2000/svg\" height=\"24px\"viewBox=\"0 0 24 24\"\n",
              "       width=\"24px\">\n",
              "    <path d=\"M0 0h24v24H0V0z\" fill=\"none\"/>\n",
              "    <path d=\"M18.56 5.44l.94 2.06.94-2.06 2.06-.94-2.06-.94-.94-2.06-.94 2.06-2.06.94zm-11 1L8.5 8.5l.94-2.06 2.06-.94-2.06-.94L8.5 2.5l-.94 2.06-2.06.94zm10 10l.94 2.06.94-2.06 2.06-.94-2.06-.94-.94-2.06-.94 2.06-2.06.94z\"/><path d=\"M17.41 7.96l-1.37-1.37c-.4-.4-.92-.59-1.43-.59-.52 0-1.04.2-1.43.59L10.3 9.45l-7.72 7.72c-.78.78-.78 2.05 0 2.83L4 21.41c.39.39.9.59 1.41.59.51 0 1.02-.2 1.41-.59l7.78-7.78 2.81-2.81c.8-.78.8-2.07 0-2.86zM5.41 20L4 18.59l7.72-7.72 1.47 1.35L5.41 20z\"/>\n",
              "  </svg>\n",
              "      </button>\n",
              "      \n",
              "  <style>\n",
              "    .colab-df-container {\n",
              "      display:flex;\n",
              "      flex-wrap:wrap;\n",
              "      gap: 12px;\n",
              "    }\n",
              "\n",
              "    .colab-df-convert {\n",
              "      background-color: #E8F0FE;\n",
              "      border: none;\n",
              "      border-radius: 50%;\n",
              "      cursor: pointer;\n",
              "      display: none;\n",
              "      fill: #1967D2;\n",
              "      height: 32px;\n",
              "      padding: 0 0 0 0;\n",
              "      width: 32px;\n",
              "    }\n",
              "\n",
              "    .colab-df-convert:hover {\n",
              "      background-color: #E2EBFA;\n",
              "      box-shadow: 0px 1px 2px rgba(60, 64, 67, 0.3), 0px 1px 3px 1px rgba(60, 64, 67, 0.15);\n",
              "      fill: #174EA6;\n",
              "    }\n",
              "\n",
              "    [theme=dark] .colab-df-convert {\n",
              "      background-color: #3B4455;\n",
              "      fill: #D2E3FC;\n",
              "    }\n",
              "\n",
              "    [theme=dark] .colab-df-convert:hover {\n",
              "      background-color: #434B5C;\n",
              "      box-shadow: 0px 1px 3px 1px rgba(0, 0, 0, 0.15);\n",
              "      filter: drop-shadow(0px 1px 2px rgba(0, 0, 0, 0.3));\n",
              "      fill: #FFFFFF;\n",
              "    }\n",
              "  </style>\n",
              "\n",
              "      <script>\n",
              "        const buttonEl =\n",
              "          document.querySelector('#df-cc4f7b7b-f521-43d7-9fda-03e805e909d4 button.colab-df-convert');\n",
              "        buttonEl.style.display =\n",
              "          google.colab.kernel.accessAllowed ? 'block' : 'none';\n",
              "\n",
              "        async function convertToInteractive(key) {\n",
              "          const element = document.querySelector('#df-cc4f7b7b-f521-43d7-9fda-03e805e909d4');\n",
              "          const dataTable =\n",
              "            await google.colab.kernel.invokeFunction('convertToInteractive',\n",
              "                                                     [key], {});\n",
              "          if (!dataTable) return;\n",
              "\n",
              "          const docLinkHtml = 'Like what you see? Visit the ' +\n",
              "            '<a target=\"_blank\" href=https://colab.research.google.com/notebooks/data_table.ipynb>data table notebook</a>'\n",
              "            + ' to learn more about interactive tables.';\n",
              "          element.innerHTML = '';\n",
              "          dataTable['output_type'] = 'display_data';\n",
              "          await google.colab.output.renderOutput(dataTable, element);\n",
              "          const docLink = document.createElement('div');\n",
              "          docLink.innerHTML = docLinkHtml;\n",
              "          element.appendChild(docLink);\n",
              "        }\n",
              "      </script>\n",
              "    </div>\n",
              "  </div>\n",
              "  "
            ]
          },
          "metadata": {},
          "execution_count": 56
        }
      ]
    },
    {
      "cell_type": "code",
      "source": [
        "X_data, y_data = [], []\n",
        "\n",
        "for dataset in datasets.values():\n",
        "    dataset = dataset.dropna()\n",
        "    X_data.extend(dataset.iloc[:, :-1].values)\n",
        "    y_data.extend(dataset.iloc[:, -1].values)\n",
        "\n",
        "X_data = np.array(X_data)\n",
        "y_data = np.array(y_data)"
      ],
      "metadata": {
        "id": "MH24Xj-5Ep_5"
      },
      "execution_count": null,
      "outputs": []
    },
    {
      "cell_type": "markdown",
      "source": [
        "# Scaling Feature Data"
      ],
      "metadata": {
        "id": "PDbp8zwL_CJU"
      }
    },
    {
      "cell_type": "code",
      "source": [
        "scaler = MinMaxScaler()\n",
        "scaler.fit(X_data)\n",
        "X_data = scaler.transform(X_data)"
      ],
      "metadata": {
        "id": "ip4hqN1CCC1q"
      },
      "execution_count": null,
      "outputs": []
    },
    {
      "cell_type": "markdown",
      "source": [
        "# Model Training\n",
        "Splitting the dataset into the Training set and Test set"
      ],
      "metadata": {
        "id": "IHMlIz0vNKc3"
      }
    },
    {
      "cell_type": "code",
      "source": [
        "X_train, X_test, y_train, y_test = train_test_split(X_data, y_data, test_size=0.2, random_state=42)\n",
        "print(f'X_train shape: {X_train.shape}')\n",
        "print(f'X_test shape: {X_test.shape}')"
      ],
      "metadata": {
        "id": "aF6sjzWdNTx1",
        "colab": {
          "base_uri": "https://localhost:8080/"
        },
        "outputId": "10c977dd-4cfe-490c-f1b6-fc6a305697f1"
      },
      "execution_count": null,
      "outputs": [
        {
          "output_type": "stream",
          "name": "stdout",
          "text": [
            "X_train shape: (28362, 756)\n",
            "X_test shape: (7091, 756)\n"
          ]
        }
      ]
    },
    {
      "cell_type": "markdown",
      "source": [
        "# Random Forest Classifier"
      ],
      "metadata": {
        "id": "hG-TppdEIIjM"
      }
    },
    {
      "cell_type": "code",
      "source": [
        "from sklearn.ensemble import RandomForestClassifier\n",
        "from sklearn import tree\n",
        "clf = RandomForestClassifier(n_estimators=100, max_depth=10, random_state=42)\n",
        "clf.fit(X_train, y_train)"
      ],
      "metadata": {
        "id": "iHOTDbC6NZs3",
        "colab": {
          "base_uri": "https://localhost:8080/",
          "height": 74
        },
        "outputId": "468e9800-4890-4ca1-ae0a-e9ad4f2112f8"
      },
      "execution_count": null,
      "outputs": [
        {
          "output_type": "execute_result",
          "data": {
            "text/plain": [
              "RandomForestClassifier(max_depth=10, random_state=42)"
            ],
            "text/html": [
              "<style>#sk-container-id-4 {color: black;background-color: white;}#sk-container-id-4 pre{padding: 0;}#sk-container-id-4 div.sk-toggleable {background-color: white;}#sk-container-id-4 label.sk-toggleable__label {cursor: pointer;display: block;width: 100%;margin-bottom: 0;padding: 0.3em;box-sizing: border-box;text-align: center;}#sk-container-id-4 label.sk-toggleable__label-arrow:before {content: \"▸\";float: left;margin-right: 0.25em;color: #696969;}#sk-container-id-4 label.sk-toggleable__label-arrow:hover:before {color: black;}#sk-container-id-4 div.sk-estimator:hover label.sk-toggleable__label-arrow:before {color: black;}#sk-container-id-4 div.sk-toggleable__content {max-height: 0;max-width: 0;overflow: hidden;text-align: left;background-color: #f0f8ff;}#sk-container-id-4 div.sk-toggleable__content pre {margin: 0.2em;color: black;border-radius: 0.25em;background-color: #f0f8ff;}#sk-container-id-4 input.sk-toggleable__control:checked~div.sk-toggleable__content {max-height: 200px;max-width: 100%;overflow: auto;}#sk-container-id-4 input.sk-toggleable__control:checked~label.sk-toggleable__label-arrow:before {content: \"▾\";}#sk-container-id-4 div.sk-estimator input.sk-toggleable__control:checked~label.sk-toggleable__label {background-color: #d4ebff;}#sk-container-id-4 div.sk-label input.sk-toggleable__control:checked~label.sk-toggleable__label {background-color: #d4ebff;}#sk-container-id-4 input.sk-hidden--visually {border: 0;clip: rect(1px 1px 1px 1px);clip: rect(1px, 1px, 1px, 1px);height: 1px;margin: -1px;overflow: hidden;padding: 0;position: absolute;width: 1px;}#sk-container-id-4 div.sk-estimator {font-family: monospace;background-color: #f0f8ff;border: 1px dotted black;border-radius: 0.25em;box-sizing: border-box;margin-bottom: 0.5em;}#sk-container-id-4 div.sk-estimator:hover {background-color: #d4ebff;}#sk-container-id-4 div.sk-parallel-item::after {content: \"\";width: 100%;border-bottom: 1px solid gray;flex-grow: 1;}#sk-container-id-4 div.sk-label:hover label.sk-toggleable__label {background-color: #d4ebff;}#sk-container-id-4 div.sk-serial::before {content: \"\";position: absolute;border-left: 1px solid gray;box-sizing: border-box;top: 0;bottom: 0;left: 50%;z-index: 0;}#sk-container-id-4 div.sk-serial {display: flex;flex-direction: column;align-items: center;background-color: white;padding-right: 0.2em;padding-left: 0.2em;position: relative;}#sk-container-id-4 div.sk-item {position: relative;z-index: 1;}#sk-container-id-4 div.sk-parallel {display: flex;align-items: stretch;justify-content: center;background-color: white;position: relative;}#sk-container-id-4 div.sk-item::before, #sk-container-id-4 div.sk-parallel-item::before {content: \"\";position: absolute;border-left: 1px solid gray;box-sizing: border-box;top: 0;bottom: 0;left: 50%;z-index: -1;}#sk-container-id-4 div.sk-parallel-item {display: flex;flex-direction: column;z-index: 1;position: relative;background-color: white;}#sk-container-id-4 div.sk-parallel-item:first-child::after {align-self: flex-end;width: 50%;}#sk-container-id-4 div.sk-parallel-item:last-child::after {align-self: flex-start;width: 50%;}#sk-container-id-4 div.sk-parallel-item:only-child::after {width: 0;}#sk-container-id-4 div.sk-dashed-wrapped {border: 1px dashed gray;margin: 0 0.4em 0.5em 0.4em;box-sizing: border-box;padding-bottom: 0.4em;background-color: white;}#sk-container-id-4 div.sk-label label {font-family: monospace;font-weight: bold;display: inline-block;line-height: 1.2em;}#sk-container-id-4 div.sk-label-container {text-align: center;}#sk-container-id-4 div.sk-container {/* jupyter's `normalize.less` sets `[hidden] { display: none; }` but bootstrap.min.css set `[hidden] { display: none !important; }` so we also need the `!important` here to be able to override the default hidden behavior on the sphinx rendered scikit-learn.org. See: https://github.com/scikit-learn/scikit-learn/issues/21755 */display: inline-block !important;position: relative;}#sk-container-id-4 div.sk-text-repr-fallback {display: none;}</style><div id=\"sk-container-id-4\" class=\"sk-top-container\"><div class=\"sk-text-repr-fallback\"><pre>RandomForestClassifier(max_depth=10, random_state=42)</pre><b>In a Jupyter environment, please rerun this cell to show the HTML representation or trust the notebook. <br />On GitHub, the HTML representation is unable to render, please try loading this page with nbviewer.org.</b></div><div class=\"sk-container\" hidden><div class=\"sk-item\"><div class=\"sk-estimator sk-toggleable\"><input class=\"sk-toggleable__control sk-hidden--visually\" id=\"sk-estimator-id-4\" type=\"checkbox\" checked><label for=\"sk-estimator-id-4\" class=\"sk-toggleable__label sk-toggleable__label-arrow\">RandomForestClassifier</label><div class=\"sk-toggleable__content\"><pre>RandomForestClassifier(max_depth=10, random_state=42)</pre></div></div></div></div></div>"
            ]
          },
          "metadata": {},
          "execution_count": 60
        }
      ]
    },
    {
      "cell_type": "code",
      "source": [
        "y_pred = clf.predict(X_test)\n",
        "print(f'Accuracy: {accuracy_score(y_test, y_pred)}')"
      ],
      "metadata": {
        "id": "I4KKye7eNcyd",
        "colab": {
          "base_uri": "https://localhost:8080/"
        },
        "outputId": "d7c4cc80-a7e3-4ad5-f916-f4c7c5b6fb49"
      },
      "execution_count": null,
      "outputs": [
        {
          "output_type": "stream",
          "name": "stdout",
          "text": [
            "Accuracy: 0.8901424340713581\n"
          ]
        }
      ]
    },
    {
      "cell_type": "code",
      "source": [
        "from sklearn.model_selection import KFold\n",
        "kf = KFold(n_splits=10)"
      ],
      "metadata": {
        "id": "0bOq6iRXHk9x"
      },
      "execution_count": null,
      "outputs": []
    },
    {
      "cell_type": "markdown",
      "source": [
        "# Gaussian Naive Bayes\n",
        "\n",
        "---\n",
        "\n"
      ],
      "metadata": {
        "id": "FXkF_MW42e5d"
      }
    },
    {
      "cell_type": "code",
      "source": [
        "from sklearn.naive_bayes import GaussianNB\n",
        "\n",
        "response_values  = []\n",
        "for train_index, test_index in kf.split(X_data):\n",
        "  x_test, x_train = X_data[test_index], X_data[train_index]\n",
        "  y_test, y_train = y_data[test_index], y_data[train_index]\n",
        "  clf = GaussianNB()\n",
        "  clf.fit(x_train, y_train)\n",
        "  acc = accuracy_score(y_test, clf.predict(x_test))\n",
        "  response_values.append(acc)\n",
        "  print('Accuracy GNBClassifier ',acc)\n",
        "print('Avg Accuracy ',np.mean(response_values))"
      ],
      "metadata": {
        "id": "muz68MKz3EdP",
        "colab": {
          "base_uri": "https://localhost:8080/"
        },
        "outputId": "a8917759-dfb8-4115-91d2-9278dcf51d63"
      },
      "execution_count": null,
      "outputs": [
        {
          "output_type": "stream",
          "name": "stdout",
          "text": [
            "Accuracy GNBClassifier  0.0005640157924421884\n",
            "Accuracy GNBClassifier  0.2098138747884941\n",
            "Accuracy GNBClassifier  0.6604624929498026\n",
            "Accuracy GNBClassifier  0.6741889985895627\n",
            "Accuracy GNBClassifier  0.7447108603667136\n",
            "Accuracy GNBClassifier  0.7808180535966149\n",
            "Accuracy GNBClassifier  0.02538787023977433\n",
            "Accuracy GNBClassifier  0.8736248236953456\n",
            "Accuracy GNBClassifier  0.6104372355430183\n",
            "Accuracy GNBClassifier  0.5320169252468265\n",
            "Avg Accuracy  0.5112025150808595\n"
          ]
        }
      ]
    },
    {
      "cell_type": "markdown",
      "source": [
        "# Stochastic Gradient Descent"
      ],
      "metadata": {
        "id": "DqocPxZl3hMK"
      }
    },
    {
      "cell_type": "code",
      "source": [
        "from sklearn.linear_model import SGDClassifier\n",
        "\n",
        "response_values  = []\n",
        "for train_index, test_index in kf.split(X_data):\n",
        "  x_test, x_train = X_data[test_index], X_data[train_index]\n",
        "  y_test, y_train = y_data[test_index], y_data[train_index]\n",
        "  clf = SGDClassifier(loss=\"hinge\", penalty=\"l2\")\n",
        "  clf.fit(x_train, y_train)\n",
        "  acc = accuracy_score(y_test, clf.predict(x_test))\n",
        "  response_values.append(acc)\n",
        "  print('Accuracy SGDClassifier ',acc)\n",
        "print('Avg Accuracy ',np.mean(response_values))"
      ],
      "metadata": {
        "colab": {
          "base_uri": "https://localhost:8080/"
        },
        "id": "lc64sMWP3p2j",
        "outputId": "134b7c1c-2a74-44b6-a69e-bf01f44c66a2"
      },
      "execution_count": null,
      "outputs": [
        {
          "output_type": "stream",
          "name": "stdout",
          "text": [
            "Accuracy SGDClassifier  0.733784545967287\n",
            "Accuracy SGDClassifier  0.45346869712351945\n",
            "Accuracy SGDClassifier  0.6049069373942471\n",
            "Accuracy SGDClassifier  0.7187588152327221\n",
            "Accuracy SGDClassifier  0.86262341325811\n",
            "Accuracy SGDClassifier  0.7997179125528914\n",
            "Accuracy SGDClassifier  0.8586741889985896\n",
            "Accuracy SGDClassifier  0.5021156558533145\n",
            "Accuracy SGDClassifier  0.5571227080394923\n",
            "Accuracy SGDClassifier  0.9283497884344146\n",
            "Avg Accuracy  0.7019522662854588\n"
          ]
        }
      ]
    },
    {
      "cell_type": "markdown",
      "source": [
        "# COMPARISON"
      ],
      "metadata": {
        "id": "Gnokr6NtO4jB"
      }
    },
    {
      "cell_type": "code",
      "source": [
        "from sklearn.linear_model import LogisticRegression\n",
        "from sklearn.neighbors import KNeighborsClassifier\n",
        "from sklearn.discriminant_analysis import LinearDiscriminantAnalysis\n",
        "from sklearn.svm import SVC\n",
        "from sklearn.model_selection import cross_val_score\n",
        "from sklearn.naive_bayes import GaussianNB\n",
        "from sklearn.model_selection import KFold"
      ],
      "metadata": {
        "id": "05Dr9Cqa8Deb"
      },
      "execution_count": null,
      "outputs": []
    },
    {
      "cell_type": "code",
      "source": [
        "# prepare configuration for cross validation test harness\n",
        "# seed = 7\n",
        "# prepare models\n",
        "models = []\n",
        "# models.append(('RFC', RandomForestClassifier(n_estimators=100, max_depth=10, random_state=42)))\n",
        "models.append(('NB', GaussianNB()))\n",
        "models.append(('LR', LogisticRegression()))\n",
        "models.append(('KNN', KNeighborsClassifier()))\n",
        "models.append(('LDA', LinearDiscriminantAnalysis()))\n",
        "# models.append(('SVM', SVC()))\n",
        "\n",
        "\n",
        "# evaluate each model in turn\n",
        "results = []\n",
        "names = []\n",
        "scoring = 'accuracy'\n",
        "for name, model in models:\n",
        " kfold = KFold(n_splits=10)\n",
        " cv_results = cross_val_score(model, X_data, y_data, cv=kfold, scoring=scoring)\n",
        " results.append(cv_results)\n",
        " names.append(name)\n",
        "\n",
        "\n",
        "# boxplot algorithm comparison\n",
        "fig = plt.figure()\n",
        "fig.suptitle('Algorithm Comparison')\n",
        "ax = fig.add_subplot(111)\n",
        "plt.boxplot(results)\n",
        "ax.set_xticklabels(names)\n",
        "plt.show()"
      ],
      "metadata": {
        "colab": {
          "base_uri": "https://localhost:8080/",
          "height": 1000
        },
        "id": "MaFND9tX7lHt",
        "outputId": "656f5e58-f642-4e3a-ac22-9f009b0ac777"
      },
      "execution_count": null,
      "outputs": [
        {
          "output_type": "stream",
          "name": "stderr",
          "text": [
            "/usr/local/lib/python3.9/dist-packages/sklearn/linear_model/_logistic.py:458: ConvergenceWarning: lbfgs failed to converge (status=1):\n",
            "STOP: TOTAL NO. of ITERATIONS REACHED LIMIT.\n",
            "\n",
            "Increase the number of iterations (max_iter) or scale the data as shown in:\n",
            "    https://scikit-learn.org/stable/modules/preprocessing.html\n",
            "Please also refer to the documentation for alternative solver options:\n",
            "    https://scikit-learn.org/stable/modules/linear_model.html#logistic-regression\n",
            "  n_iter_i = _check_optimize_result(\n",
            "/usr/local/lib/python3.9/dist-packages/sklearn/linear_model/_logistic.py:458: ConvergenceWarning: lbfgs failed to converge (status=1):\n",
            "STOP: TOTAL NO. of ITERATIONS REACHED LIMIT.\n",
            "\n",
            "Increase the number of iterations (max_iter) or scale the data as shown in:\n",
            "    https://scikit-learn.org/stable/modules/preprocessing.html\n",
            "Please also refer to the documentation for alternative solver options:\n",
            "    https://scikit-learn.org/stable/modules/linear_model.html#logistic-regression\n",
            "  n_iter_i = _check_optimize_result(\n",
            "/usr/local/lib/python3.9/dist-packages/sklearn/linear_model/_logistic.py:458: ConvergenceWarning: lbfgs failed to converge (status=1):\n",
            "STOP: TOTAL NO. of ITERATIONS REACHED LIMIT.\n",
            "\n",
            "Increase the number of iterations (max_iter) or scale the data as shown in:\n",
            "    https://scikit-learn.org/stable/modules/preprocessing.html\n",
            "Please also refer to the documentation for alternative solver options:\n",
            "    https://scikit-learn.org/stable/modules/linear_model.html#logistic-regression\n",
            "  n_iter_i = _check_optimize_result(\n",
            "/usr/local/lib/python3.9/dist-packages/sklearn/linear_model/_logistic.py:458: ConvergenceWarning: lbfgs failed to converge (status=1):\n",
            "STOP: TOTAL NO. of ITERATIONS REACHED LIMIT.\n",
            "\n",
            "Increase the number of iterations (max_iter) or scale the data as shown in:\n",
            "    https://scikit-learn.org/stable/modules/preprocessing.html\n",
            "Please also refer to the documentation for alternative solver options:\n",
            "    https://scikit-learn.org/stable/modules/linear_model.html#logistic-regression\n",
            "  n_iter_i = _check_optimize_result(\n",
            "/usr/local/lib/python3.9/dist-packages/sklearn/linear_model/_logistic.py:458: ConvergenceWarning: lbfgs failed to converge (status=1):\n",
            "STOP: TOTAL NO. of ITERATIONS REACHED LIMIT.\n",
            "\n",
            "Increase the number of iterations (max_iter) or scale the data as shown in:\n",
            "    https://scikit-learn.org/stable/modules/preprocessing.html\n",
            "Please also refer to the documentation for alternative solver options:\n",
            "    https://scikit-learn.org/stable/modules/linear_model.html#logistic-regression\n",
            "  n_iter_i = _check_optimize_result(\n",
            "/usr/local/lib/python3.9/dist-packages/sklearn/linear_model/_logistic.py:458: ConvergenceWarning: lbfgs failed to converge (status=1):\n",
            "STOP: TOTAL NO. of ITERATIONS REACHED LIMIT.\n",
            "\n",
            "Increase the number of iterations (max_iter) or scale the data as shown in:\n",
            "    https://scikit-learn.org/stable/modules/preprocessing.html\n",
            "Please also refer to the documentation for alternative solver options:\n",
            "    https://scikit-learn.org/stable/modules/linear_model.html#logistic-regression\n",
            "  n_iter_i = _check_optimize_result(\n",
            "/usr/local/lib/python3.9/dist-packages/sklearn/linear_model/_logistic.py:458: ConvergenceWarning: lbfgs failed to converge (status=1):\n",
            "STOP: TOTAL NO. of ITERATIONS REACHED LIMIT.\n",
            "\n",
            "Increase the number of iterations (max_iter) or scale the data as shown in:\n",
            "    https://scikit-learn.org/stable/modules/preprocessing.html\n",
            "Please also refer to the documentation for alternative solver options:\n",
            "    https://scikit-learn.org/stable/modules/linear_model.html#logistic-regression\n",
            "  n_iter_i = _check_optimize_result(\n",
            "/usr/local/lib/python3.9/dist-packages/sklearn/linear_model/_logistic.py:458: ConvergenceWarning: lbfgs failed to converge (status=1):\n",
            "STOP: TOTAL NO. of ITERATIONS REACHED LIMIT.\n",
            "\n",
            "Increase the number of iterations (max_iter) or scale the data as shown in:\n",
            "    https://scikit-learn.org/stable/modules/preprocessing.html\n",
            "Please also refer to the documentation for alternative solver options:\n",
            "    https://scikit-learn.org/stable/modules/linear_model.html#logistic-regression\n",
            "  n_iter_i = _check_optimize_result(\n",
            "/usr/local/lib/python3.9/dist-packages/sklearn/linear_model/_logistic.py:458: ConvergenceWarning: lbfgs failed to converge (status=1):\n",
            "STOP: TOTAL NO. of ITERATIONS REACHED LIMIT.\n",
            "\n",
            "Increase the number of iterations (max_iter) or scale the data as shown in:\n",
            "    https://scikit-learn.org/stable/modules/preprocessing.html\n",
            "Please also refer to the documentation for alternative solver options:\n",
            "    https://scikit-learn.org/stable/modules/linear_model.html#logistic-regression\n",
            "  n_iter_i = _check_optimize_result(\n",
            "/usr/local/lib/python3.9/dist-packages/sklearn/linear_model/_logistic.py:458: ConvergenceWarning: lbfgs failed to converge (status=1):\n",
            "STOP: TOTAL NO. of ITERATIONS REACHED LIMIT.\n",
            "\n",
            "Increase the number of iterations (max_iter) or scale the data as shown in:\n",
            "    https://scikit-learn.org/stable/modules/preprocessing.html\n",
            "Please also refer to the documentation for alternative solver options:\n",
            "    https://scikit-learn.org/stable/modules/linear_model.html#logistic-regression\n",
            "  n_iter_i = _check_optimize_result(\n"
          ]
        },
        {
          "output_type": "display_data",
          "data": {
            "text/plain": [
              "<Figure size 640x480 with 1 Axes>"
            ],
            "image/png": "[encoded data removed]"
          },
          "metadata": {}
        }
      ]
    },
    {
      "cell_type": "code",
      "source": [
        "for i in range(len(names)):\n",
        "  print(names[i], cv_results[i])"
      ],
      "metadata": {
        "id": "S2VoEaoPRPkc",
        "colab": {
          "base_uri": "https://localhost:8080/"
        },
        "outputId": "a57a78f3-db44-4f95-c415-3c554f05e855"
      },
      "execution_count": null,
      "outputs": [
        {
          "output_type": "stream",
          "name": "stdout",
          "text": [
            "NB 0.7670614777213762\n",
            "LR 0.5462492949802594\n",
            "KNN 0.43542019176536945\n",
            "LDA 0.786459802538787\n"
          ]
        }
      ]
    }
  ]
}